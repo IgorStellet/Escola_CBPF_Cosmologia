{
 "cells": [
  {
   "cell_type": "markdown",
   "id": "84be3fe5",
   "metadata": {},
   "source": [
    "\n",
    "# 🪐 Aula: Do espaço real ao espectro de potência\n",
    "\n",
    "Neste *notebook*, vamos aprender passo a passo como obter o **espectro de potência** de uma imagem, indo do espaço real até a representação em termos de multipolos angulares ($\\ell$). Além disto, vamos aprender como calcular barras de erro (matriz de covariância) para o caso em que a matriz é Gaussiana, filtragem de modos utilizando FFT e um exemplo mais realístico utilizando CMB. \n",
    "\n",
    "Vamos abordar:\n",
    "\n",
    "1. Fundamentos da Transformada de Fourier (FFT)\n",
    "2. Abrindo uma imagem .fits \n",
    "3. Cálculo do espectro de potência 2D\n",
    "4. Conversão do espectro 2D para 1D (média radial)\n",
    "5. Conversão das frequências em multipolos \\( \\ell \\)\n",
    "6. Barras de erro- Cálculo da matriz de covariância\n",
    "7. Filtragem no Espaço de Frequência (FFT 2D)\n",
    "8. Exemplo data mais realístico : CMB\n",
    "   * efeito SZ, feixe, ruído, filtragem \n"
   ]
  },
  {
   "cell_type": "code",
   "execution_count": null,
   "id": "b2429375",
   "metadata": {},
   "outputs": [],
   "source": [
    "\n",
    "import numpy as np\n",
    "import matplotlib.pyplot as plt\n",
    "from scipy import fftpack\n",
    "from skimage import data\n",
    "from skimage.color import rgb2gray\n"
   ]
  },
  {
   "cell_type": "markdown",
   "id": "f634064d-dd64-4780-8815-a9c59c814ae2",
   "metadata": {},
   "source": [
    "\n",
    "## 1️⃣ Fundamentos da Transformada de Fourier em 1-D\n",
    "\n",
    " \n",
    "\n",
    "A **Transformada de Fourier** mostra que qualquer sinal pode ser decomposto em uma soma de funções senoidais individuais de diferentes frequências. Em outras palavras, ela nos permite representar um sinal (ou imagem) não mais em termos de posição, mas de frequência espacial — revelando quais padrões oscilatórios compõem a estrutura do sinal.\n",
    "\n",
    "<img src=\"https://www.nti-audio.com/portals/0/pic/news/FFT-Time-Frequency-View-540.png\">"
   ]
  },
  {
   "cell_type": "markdown",
   "id": "33b9773e-0cad-4827-9e6c-78e9f590b6bb",
   "metadata": {},
   "source": [
    "No caso contínuo em 1-D, a Transformada de Fourier pode ser escrita como: \n",
    "\n",
    "\\begin{equation}\n",
    "\\tilde{f}(k) = \\int f(x) e^{-2\\pi ikfx} dx\n",
    "\\end{equation} \n",
    "\n",
    "e a transformada inversa, que reconstrói o sinal no espaço original, é dada por:\n",
    "\n",
    "\\begin{equation}\n",
    "f(x) = \\int \\tilde{f}(k) e^{2\\pi ikfx} dk\n",
    "\\end{equation} \n",
    "\n",
    "onde $f(x)$ é o sinal no espaço real, $\\tilde{f}(k)$ é o sinal no espaço de frequências, k representa a frequência espacial (ou simplesmente frequência), e o fator exponencial descreve as oscilações senoidais que compõem o sinal"
   ]
  },
  {
   "cell_type": "code",
   "execution_count": null,
   "id": "f33307bb-6aab-4561-a098-b47cc1a4d17d",
   "metadata": {},
   "outputs": [],
   "source": []
  },
  {
   "cell_type": "markdown",
   "id": "9bb49236",
   "metadata": {},
   "source": [
    "\n",
    "## 2️⃣ Transformada Discreta de Fourier (DFT) 2D (em imagens)\n",
    "\n",
    " \n",
    "A **Transformada de Fourier discreta (DFT)** permite decompor uma imagem \\( I(x, y) \\) — onde (x,y) são as coordenadas dos pixels — em suas componentes de frequência espacial. Essa decomposição revela quanta informação (ou potência) está presente em diferentes escalas espaciais da imagem, permitindo analisar padrões periódicos e estruturas em diversas resoluções.\n",
    " \n",
    "\n",
    "\\begin{equation}\n",
    " \\tilde{I}(k_x, k_y) = \\sum_{x=0}^{N_{x}-1} \\sum_{y=0}^{N_{y}-1} I(x, y) \\, e^{-2\\pi i (\\frac{k_x  x}{N_{x}} + \\frac{k_y y}{N_{y}})} \\, dx\\, dy,\n",
    "\\end{equation}\n",
    "\n",
    "onde $(k_x, k_y)$ são os índices de frequência espacial, (Nx,Ny) são o número de pixels nas direções x e y.\n",
    "\n",
    " \n",
    "\n",
    "\n",
    "- O cálculo da Transformada de Fourier discreta unidimensional pode ser feito de forma muito eficiente com o algoritmo da Transformada Rápida de Fourier (FFT) com complexidade de tempo O(n log n).\n",
    "- Este algoritmo pode ser estendido para sinais 2D e está presente na biblioteca numpy através de `numpy.fft.fft2`.\n",
    "\n",
    "Aviso: o algoritmo fft não retorna a frequência zero no centro do espectro. Precisamos aplicar um deslocamento ao espectro.\n"
   ]
  },
  {
   "cell_type": "markdown",
   "id": "4d77a080-0328-4f3b-a697-90a2a0ae8573",
   "metadata": {},
   "source": [
    "# Vamos primeiramente entender FFT em uma imagem arbitrária: \n",
    "\n"
   ]
  },
  {
   "cell_type": "code",
   "execution_count": null,
   "id": "a5e1dec0-4738-4a50-ba06-5b738ea0e06c",
   "metadata": {},
   "outputs": [],
   "source": [
    "caller = getattr(data, 'grass')\n",
    "image = caller()\n",
    "\n",
    " \n",
    "\n",
    "data_ft = np.abs(np.fft.fft2(image))\n",
    "data_ft_shifted = np.fft.fftshift(data_ft) "
   ]
  },
  {
   "cell_type": "code",
   "execution_count": null,
   "id": "925db6e0-bfec-4cde-9f82-886daa75ece0",
   "metadata": {},
   "outputs": [],
   "source": [
    "fig = plt.figure(figsize=(17,5))\n",
    "\n",
    "axes = fig.add_subplot(131)\n",
    "plt.imshow(image)\n",
    "plt.colorbar()\n",
    "plt.xlabel('x')\n",
    "plt.ylabel('y')\n",
    "plt.title(r\"image $f(x,y)$\")\n",
    "\n",
    "axes = fig.add_subplot(132)\n",
    "plt.imshow(np.log(np.abs(data_ft)), cmap='magma')\n",
    "plt.colorbar()\n",
    "axes.xaxis.set_ticks([0,256,512])\n",
    "axes.xaxis.set_ticklabels(['0', r'$\\pi$', r'$2\\pi$'])\n",
    "plt.xlabel(r'$kx \\longrightarrow$')\n",
    "axes.yaxis.set_ticks([0,256,512])\n",
    "axes.yaxis.set_ticklabels(['0', r'$\\pi$', r'$2\\pi$'])\n",
    "plt.ylabel(r'$\\longleftarrow ky$')\n",
    "plt.title(r\"Fourier transform $|F(kx,ky)|$\")\n",
    "\n",
    "axes = fig.add_subplot(133)\n",
    "plt.imshow(np.log(np.abs(data_ft_shifted)), cmap='plasma')\n",
    "plt.colorbar()\n",
    "axes.xaxis.set_ticks([0,256,512])\n",
    "axes.xaxis.set_ticklabels([r'$-\\pi$', '0', r'$\\pi$'])\n",
    "plt.xlabel(r'$kx \\longrightarrow$')\n",
    "axes.yaxis.set_ticks([0, 256, 512])\n",
    "axes.yaxis.set_ticklabels([r'$-\\pi$', '0', r'$\\pi$'])\n",
    "plt.ylabel(r'$\\longleftarrow ky$')\n",
    "plt.title(r\"Fourier transform shifted $|F(kx,ky)|$\")"
   ]
  },
  {
   "cell_type": "markdown",
   "id": "a21ff593-6bba-436b-9d77-1f38eee1ff0f",
   "metadata": {},
   "source": [
    " "
   ]
  },
  {
   "cell_type": "code",
   "execution_count": null,
   "id": "f4cf49f0-7611-45bb-adef-c8da3ac315a8",
   "metadata": {},
   "outputs": [],
   "source": []
  },
  {
   "cell_type": "code",
   "execution_count": null,
   "id": "2f5b598b-914f-44bc-b376-8817900af343",
   "metadata": {},
   "outputs": [],
   "source": []
  },
  {
   "cell_type": "markdown",
   "id": "c0e1ea96-272f-4d52-abad-b7c638e56b3f",
   "metadata": {},
   "source": [
    "## 3️⃣ Abrindo um mapa de tracer= MB, Lenteamento de galáxias ou densidade de galáxias em .fits: \n",
    " "
   ]
  },
  {
   "cell_type": "code",
   "execution_count": null,
   "id": "3bfadd7f-069f-4b68-ad0d-cc57ac5e6d7d",
   "metadata": {},
   "outputs": [],
   "source": [
    "from astropy.io import fits\n",
    "\n",
    "def read_fits_map(path, hdu=0):\n",
    "    \"\"\"Read a FITS image and return data and header.\"\"\"\n",
    "    with fits.open(path) as hdul:\n",
    "        data = hdul[hdu].data.astype(np.float64)\n",
    "        header = hdul[hdu].header\n",
    "    return data, header\n",
    "\n",
    " \n",
    "path=''\n",
    " \n",
    "mapa, h = read_fits_map(path+'mapa_{tracer}_noiseless.fits')\n",
    "\n",
    "plt.imshow(mapa, cmap='RdBu_r')\n",
    "\n"
   ]
  },
  {
   "cell_type": "code",
   "execution_count": null,
   "id": "55372d74-d9a8-4b38-bdee-f22dc167a703",
   "metadata": {},
   "outputs": [],
   "source": [
    "#------------------------------------------------------------------\n",
    "# Defina parametros do mapa: \n",
    "npix = len(mapa) #numero de pixels por lado\n",
    "map_size_deg = 60.0 # Tamanho da lateral do mapa em graus \n",
    "map_size_rad = np.deg2rad(map_size_deg)# Tamanho da lateral do mapa em radiano\n",
    "pix_size = map_size_rad / npix # Pixel size (radians)\n",
    "\n",
    "print(pix_size, npix, map_size_rad)"
   ]
  },
  {
   "cell_type": "code",
   "execution_count": null,
   "id": "a788cef6-cec4-4863-8b9c-05f0adf7a3ac",
   "metadata": {},
   "outputs": [],
   "source": [
    " "
   ]
  },
  {
   "cell_type": "markdown",
   "id": "8a964d81-b3f7-411d-acf5-5fe65db5befb",
   "metadata": {},
   "source": [
    "\n",
    "## 🧩 Exercícios  \n",
    "\n",
    "### 🧠 Exercício 1 — FFT do mapa da sonda cosmológica\n",
    "Visualize o mapa da sonda cosmológica escolhida, sua FFT e a FFT após o deslocamento.\n",
    "O que você espera ver?\n"
   ]
  },
  {
   "cell_type": "code",
   "execution_count": null,
   "id": "5b1f050b-b542-4398-9b95-878fe0d93bc0",
   "metadata": {},
   "outputs": [],
   "source": [
    "  "
   ]
  },
  {
   "cell_type": "code",
   "execution_count": null,
   "id": "13c1b190",
   "metadata": {},
   "outputs": [],
   "source": [
    " "
   ]
  },
  {
   "cell_type": "markdown",
   "id": "e28833db-68f6-4cb2-927b-e88d9fa3dd55",
   "metadata": {},
   "source": [
    " ## Espectro de potência de um mapa  \n",
    "O  [espectro de potência de densidade](https://en.wikipedia.org/wiki/Spectral_density#Energy_spectral_density) de uma imagem 2D é $P(kx,ky) = |F(kx,ky)|^2$"
   ]
  },
  {
   "cell_type": "markdown",
   "id": "b92696e1-97de-41cd-86a5-5a9fbbf8416c",
   "metadata": {},
   "source": [
    "### 🧠 Exercício 2 — Espectro de potência 2-D\n",
    "Calcule e visualize o espetro de potência 2D do mapa da sonda cosmológica escolhida. "
   ]
  },
  {
   "cell_type": "code",
   "execution_count": null,
   "id": "75cb6a24-49a0-49b1-a5ce-391a069236ba",
   "metadata": {},
   "outputs": [],
   "source": [
    " "
   ]
  },
  {
   "cell_type": "markdown",
   "id": "64d3d2a8-ec0e-4b95-822b-cb649d954266",
   "metadata": {},
   "source": [
    "# Etapa 3. Construir a grade ℓ\n",
    "\n",
    "\n",
    "\n",
    "# Na aproximação de céu-plano (flat-sky), os modos de Fourier $\\ell$ correspondem a : \n",
    "  \n",
    " \\begin{equation}\n",
    "\\ell =  2\\pi \\sqrt{(kx^2 + ky^2  )}\n",
    " \\end{equation}\n",
    "\n"
   ]
  },
  {
   "cell_type": "markdown",
   "id": "d03701d9-d677-4903-8a53-9e0aabca3d5c",
   "metadata": {},
   "source": [
    "\n"
   ]
  },
  {
   "cell_type": "code",
   "execution_count": null,
   "id": "cbedc93b-c7a0-4ff0-a3fc-3387d57eb088",
   "metadata": {},
   "outputs": [],
   "source": [
    "  \n",
    "# Frequency grid (in radians^-1)\n",
    "kx = np.fft.fftshift(np.fft.fftfreq(npix, d=pix_size))\n",
    "ky = np.fft.fftshift(np.fft.fftfreq(npix, d=pix_size))\n",
    "KX, KY = np.meshgrid(kx, ky)\n",
    "ell = 2 * np.pi * np.sqrt(KX**2 + KY**2)\n",
    " "
   ]
  },
  {
   "cell_type": "markdown",
   "id": "d17e99ec-8e57-4975-bd2a-ded9833cfb9d",
   "metadata": {},
   "source": [
    "# Etapa 4. Cálculo do Espectro de potência\n",
    "\n",
    "Nós queremos obter o $C_{\\ell}$ médio radial, ou seja, a média de $|F|^2$ em anéis de $\\ell$ constante:  \n",
    " \n"
   ]
  },
  {
   "cell_type": "code",
   "execution_count": null,
   "id": "8a450386-4fc4-407c-97a8-0b5a6d26f77e",
   "metadata": {},
   "outputs": [],
   "source": [
    "# Flatten arrays\n",
    "ell_flat = ell.flatten()\n",
    "power_flat = power2d.flatten()\n",
    "\n",
    "# Define ℓ bins\n",
    "ell_min = 2       # you can tune based on map size\n",
    "ell_max = 3500\n",
    "nbins = 30\n",
    "\n",
    "ell_bins = np.linspace( (ell_min),  (ell_max), nbins+1)\n",
    "\n",
    "ell_centers = 0.5 * (ell_bins[1:] + ell_bins[:-1])\n",
    "print(ell_centers)\n",
    "Cl = np.zeros(nbins)\n",
    "for i in range(nbins):\n",
    "    mask = (ell_flat >= ell_bins[i]) & (ell_flat < ell_bins[i+1])\n",
    "    if np.any(mask):\n",
    "        Cl[i] = np.mean(power_flat[mask])\n",
    "\n",
    "\n",
    "\n",
    "plt.plot(ell_centers, Cl ,'o')"
   ]
  },
  {
   "cell_type": "code",
   "execution_count": null,
   "id": "d613f807-9070-4a31-9d1d-ac9367442a10",
   "metadata": {},
   "outputs": [],
   "source": [
    " "
   ]
  },
  {
   "cell_type": "markdown",
   "id": "411773de-0d7c-4033-8de6-489608631bb9",
   "metadata": {},
   "source": [
    "# 5) Normalizar o $C_{\\ell}$\n",
    "   \n",
    "Para comparar o espectro de potência de um mapa com um teórico, é necessário converter todos os valores para unidades universais, ou seja, unidades que não dependem das especificidades do mapa (largura, resolução, tamanho do pixel, etc.).\n",
    "\n",
    "Na comunidade cosmológica, é comum multiplicar o espectro de potência pelas unidades de *volume* do sinal de interesse. Aqui, o *volume* é uma área, já que trabalhamos com imagens.  Para o caso de céu-plano, precisamos multiplicar o espectro de potência por  (area_do_pixel)   e dividir pela area total \n"
   ]
  },
  {
   "cell_type": "code",
   "execution_count": null,
   "id": "eca71128-bab7-467f-b324-9d688355c609",
   "metadata": {},
   "outputs": [],
   "source": [
    "Cl = (pix_size**2 / npix**2) * Cl #<---Isso garante que  o mapa tenha dimensões corretas\n"
   ]
  },
  {
   "cell_type": "markdown",
   "id": "d2a26363-2386-43e7-9108-5468ebbab0bd",
   "metadata": {},
   "source": [
    "# 🧩 Defina uma função para o cálculo do Cls a partir de um mapa (será útil depois): \n",
    " \n",
    "\n",
    "Objetivo: definir uma funcão em que a entrada seja um mapa (2D- flat-sky), tamanho do pixel, tamanho do mapa e multipolos a serem calculados os Cls (ell_bins). Output: Cl (binnado em ell_bins).  \n"
   ]
  },
  {
   "cell_type": "code",
   "execution_count": null,
   "id": "41ce3523-69fe-4441-af14-0c2e70bffa9f",
   "metadata": {},
   "outputs": [],
   "source": [
    " "
   ]
  },
  {
   "cell_type": "code",
   "execution_count": null,
   "id": "6197a51e-8d85-4fa3-bb61-193c1904508e",
   "metadata": {},
   "outputs": [],
   "source": [
    " "
   ]
  },
  {
   "cell_type": "markdown",
   "id": "fde6f864-b06e-4d7c-91f6-faf5e5aa42f7",
   "metadata": {},
   "source": [
    "# Mas como garantir que as medidas estão precisas, sem efeito de pixelização, ruído, efeito de projeção (plano vs curvo)? como estabelecer um lmin, lmax mais realista (cobertura do céu, etc)?  \n",
    "\n",
    "---> **Valide usando simulações**\n",
    "\n",
    "Primeiro exemplo: **Não-realista**\n"
   ]
  },
  {
   "cell_type": "markdown",
   "id": "1fdfa448-c255-49ef-a3de-a912162822d4",
   "metadata": {},
   "source": [
    "\n"
   ]
  },
  {
   "cell_type": "markdown",
   "id": "d03e24df-e4cd-45d3-8519-a863a41c0040",
   "metadata": {},
   "source": [
    "## Observações sobre os ruídos: \n",
    "\n",
    "# 1) Overdensity de galáxias:\n",
    "\n",
    "**Ruídos característicos**:\n",
    "\n",
    "* Shot noise (Poisson): ruído branco no espaço real — power spectrum constante! $N_{\\ell}= 1/\\bar{n}$, onde $\\bar{n}$ é densidade superficial por rad². Expressão analítica em situações onde número médio de galáxias por pixel não é pequeno. Assuma ngal =   222828.6428782517  #[ sr^-1]\n",
    "\n",
    "* Syst. de grande escala (foregrounds, variação de seleção, variações de profundidade / calibração): erros em grandes escalas (baixos k) — muitas vezes aproximados por $\\propto k^{-\\beta}$ , ou por um mapa multiplicativo de profundidade (modo de baixos k).\n",
    "\n",
    "* Máscaras e janela: introduzem convolução no espectro (mode coupling).\n",
    "\n",
    "# 2) CMB:\n",
    "\n",
    "**Ruídos característicos**:\n",
    "\n",
    "* Ruído branco instrumental :\n",
    "  Assuma :\n",
    "      \n",
    "    sigma_uK_arcmin = 65.0\n",
    "  \n",
    "    sigma_K_rad = sigma_uK_arcmin * 1e-6 * (np.pi / (180 * 60))\n",
    "  \n",
    "    Nl_white = sigma_K_rad**2\n",
    "\n",
    "\n",
    "* Ruído 1/f (detector/ eletrônica): espectro $\\sim P(k) \\propto 1/k^\\alpha$ com α∼1–2, domina em baixas frequências (grandes escalas).\n",
    "\n",
    "* Beam (PSF): atenua potência em altos $\\ell$, modelado por  $B_{\\ell} = \\exp (-\\ell(\\ell+1)\\sigma^2_{b}/2)$ ou, em flat-sky, com $\\sigma_b = \\rm{FWHM} (\\rm rad)/(8\\sqrt{\\ln 2})$\n",
    "\n",
    "\n",
    "# 3) Lenteamento de Galáxias:\n",
    "**Ruídos característicos**:\n",
    "\n",
    "* Shape noise (intrinsic ellipticity): ruído branco, cada pixel recebe ruído devido a estimativa das ellipticidades; a potênca é ~ constante $N_{\\ell}= \\sigma_e^2$/$\\bar{n\\rm{gal}}$, (onde $\\sigma_e  \\sim 0.27$ e $\\bar{n_{\\rm gal}} = 30000000  $ #[ sr^-1]).\n",
    " \n",
    " \n",
    "* Residuais da PSF / anisotropias: podem introduzir padrões preferenciais (pequenas escalas e direcionalidade).\n",
    "\n",
    "* Variação de profundidade / calibração: afetam grandes escalas\n",
    "\n",
    "\n"
   ]
  },
  {
   "cell_type": "markdown",
   "id": "184004c2-99fa-4374-bace-61abba49dc80",
   "metadata": {},
   "source": [
    "# 🧩 Simulando um mapa de lenteamento gaussiano a partir de um  Cℓ\n",
    " \n",
    "\n",
    "**Objetivo: gerar um mapa F(x, y) a partir de um espectro de potência teórico, e então verificar se o espectro recuperado via FFT  é consistente com o de entrada.\n",
    "Isso serve para validar a normalização e entender o ruído e as escalas.**\n",
    "\n",
    "Caso simplista- Mapas Gaussianos:\n",
    "\n",
    "1) Obter/Ler um Cl teórico (--> mais na aula de amanhã <---) \n",
    "2) Simular um mapa Gaussiano aleatório a partir do $C_{\\ell}^{th}$ (usando a mesma grade, área, tamanho que o mapa do dado observacional) e calcular o espectro de potência do mapa simulado ideal\n",
    "3) Simular, para um mesmo número de realizações, mapas Gaussianos de ruído--(adicionar apenas do primeiro ponto sobre o ruído listados acima).\n",
    "4) Somar o (mapa de sinal simulado + mapa ruído simulado), calcular e armazenar o seu espectro de potência\n",
    "5) Repita os passos 2 e 3 algumas vezes (~100x nesta aula) e armazene o $C_{\\ell}^{\\rm mocks}$ dos mocks e o  $C_{\\ell}^{\\rm noise mocks}$  \n",
    "6) Comparar da média dos $C_{\\ell}^{\\rm mocks}$ com $C_{\\ell}^{th}$\n"
   ]
  },
  {
   "cell_type": "code",
   "execution_count": null,
   "id": "e8e3d999-2d10-4edd-a3f2-984e41586717",
   "metadata": {},
   "outputs": [],
   "source": [
    "def simulate_gaussian_from_Cl(ell_input, Cl_input, npix=512, box_deg=60, seed=0, ell_bins=  np.linspace(2,  4000, 60)):\n",
    " \n",
    "    \"\"\"\n",
    "    Simulate a Gaussian random field on a flat-sky grid from input (ell, Cl).\n",
    "    Implements correct area normalization and enforces Hermitian symmetry so the\n",
    "    real-space field is real. Returns field in real-space.\n",
    "    \"\"\"\n",
    "    import numpy as np\n",
    "    from scipy.interpolate import interp1d\n",
    "    from numpy.fft import fft2, ifft2, fftfreq\n",
    "    import matplotlib.pyplot as plt\n",
    "    rng = np.random.default_rng(seed)\n",
    "\n",
    "    # geometry\n",
    "    box_rad = np.deg2rad(box_deg)       # box size in radians\n",
    "    pix_size = box_rad / npix           # pixel size [rad]\n",
    "    L = npix * pix_size                 # box side [rad]\n",
    "    area = L**2\n",
    "\n",
    "    # Fourier grid (radians^-1)\n",
    "    kfreq = fftfreq(npix, d=pix_size) * 2 * np.pi\n",
    "    kx, ky = np.meshgrid(kfreq, kfreq)\n",
    "    ell_grid = np.sqrt(kx**2 + ky**2)\n",
    "\n",
    "    # Interpolate input Cl to grid\n",
    "    Cl_interp = interp1d(ell_input, Cl_input, bounds_error=False, fill_value=0.0)\n",
    "    Cl_grid = Cl_interp(ell_grid)\n",
    "\n",
    "    # Variance for discrete FT coefficients:\n",
    "    # Derived from: f_tilde_cont(ell) ~ pix_size^2 * F_np\n",
    "    # and <|f_tilde_cont|^2> = A * C_ell  => Var(F_np) = A C_ell / pix_size^4\n",
    "    # with A = (npix * pix_size)^2 -> simplifies to (npix**2 * C_ell) / (pix_size**2)\n",
    "    var_Fnp = (npix**2 * Cl_grid) / (pix_size**2)\n",
    "\n",
    "    # Create Fourier array with Hermitian symmetry\n",
    "    F_np = np.zeros((npix, npix), dtype=np.complex128)\n",
    "\n",
    "    for i in range(npix):\n",
    "        for j in range(npix):\n",
    "            # index of conjugate mode\n",
    "            ic = (-i) % npix\n",
    "            jc = (-j) % npix\n",
    "\n",
    "            # Only fill each conjugate pair once: fill when (i,j) is in a chosen half\n",
    "            # We'll skip indices that will be set by their conjugate (avoid double-set).\n",
    "            if (i > npix//2) or (i == npix//2 and j > npix//2):\n",
    "                continue\n",
    "\n",
    "            # Modes that are self-conjugate (purely real): DC and Nyquist combinations\n",
    "            is_self_conj = ((i == 0 and j == 0) or\n",
    "                            (i == npix//2 and j == 0) or\n",
    "                            (i == 0 and j == npix//2) or\n",
    "                            (i == npix//2 and j == npix//2))\n",
    "\n",
    "            if is_self_conj:\n",
    "                # these should be real-valued (variance = var_Fnp)\n",
    "                a = rng.normal(scale=np.sqrt(var_Fnp[i, j]))\n",
    "                F_np[i, j] = a\n",
    "                F_np[ic, jc] = np.conj(F_np[i, j])\n",
    "            else:\n",
    "                # complex Gaussian: real & imag each with var = var_Fnp/2\n",
    "                z = (rng.normal(size=1) + 1j * rng.normal(size=1)) * np.sqrt(var_Fnp[i, j] / 2.0)\n",
    "                z = z[0]\n",
    "                F_np[i, j] = z\n",
    "                # enforce Hermitian partner\n",
    "                F_np[ic, jc] = np.conj(z)\n",
    "\n",
    "    # Inverse FFT: gives real-space field\n",
    "    field = np.real(ifft2(F_np))\n",
    "\n",
    "    # Estimate power spectrum from the map:\n",
    "    ft_field = fft2(field)\n",
    " \n",
    "    return field "
   ]
  },
  {
   "cell_type": "code",
   "execution_count": null,
   "id": "2d83a1bf-d1e9-4f7b-bc9b-8d5202a8578b",
   "metadata": {},
   "outputs": [],
   "source": [
    " "
   ]
  },
  {
   "cell_type": "code",
   "execution_count": null,
   "id": "824d9a76-514d-44d9-b877-85a4cea813b2",
   "metadata": {
    "scrolled": true
   },
   "outputs": [],
   "source": [
    "# Se tracer == CMB:\n",
    "# sigma_uK_arcmin = 65.0\n",
    "# sigma_K_rad = sigma_uK_arcmin * 1e-6 * (np.pi / (180 * 60))\n",
    "# Nl_white = (sigma_K_rad)**2\n",
    "# cl_noise_in = np.ones_like(Cl_theory)*Nl_white\n",
    "\n",
    "# Se tracer == lensing:\n",
    "# ngal=  30000000\n",
    "# Nl_white = (0.27)**2/ngal\n",
    "# cl_noise_in = np.ones_like(Cl_theory)*Nl_white\n",
    " \n",
    "# Se tracer == gal:\n",
    " # ngal=  222828.6428782517 \n",
    "# Nl_white = 1/ngal\n",
    "# cl_noise_in = np.ones_like(Cl_theory)*Nl_white\n",
    " "
   ]
  },
  {
   "cell_type": "code",
   "execution_count": null,
   "id": "999044b9-0a09-423d-a77c-661e0de07761",
   "metadata": {},
   "outputs": [],
   "source": [
    " "
   ]
  },
  {
   "cell_type": "markdown",
   "id": "599b9b7d-dcd0-4cb3-9740-72afb63fe57b",
   "metadata": {},
   "source": [
    "# 🧩 Visualize  e compare os diferentes Cls: Cls mocks, CL input Cl ruído. Qual comportamento do Cl ruído? Dada a dispersão das sims, em quais escalas podemos ter precisão dos Cls?"
   ]
  },
  {
   "cell_type": "markdown",
   "id": "c169f14f-a91a-41bb-91a4-2ae118082bf4",
   "metadata": {},
   "source": [
    " "
   ]
  },
  {
   "cell_type": "code",
   "execution_count": null,
   "id": "ee77ef0f-7e5d-4e90-8553-bf264a33c893",
   "metadata": {},
   "outputs": [],
   "source": [
    " "
   ]
  },
  {
   "cell_type": "code",
   "execution_count": null,
   "id": "a47cb3e7-ba54-43c0-9604-3579c4fbf1ed",
   "metadata": {},
   "outputs": [],
   "source": [
    " "
   ]
  },
  {
   "cell_type": "code",
   "execution_count": null,
   "id": "cf0c5d9a-f86e-415b-bdac-c9b342cd5f30",
   "metadata": {},
   "outputs": [],
   "source": [
    " "
   ]
  },
  {
   "cell_type": "markdown",
   "id": "50554680-0c7c-4ffe-905d-3dbc52210e7e",
   "metadata": {},
   "source": [
    "# 🧩 Utilize os Cls calculados via simulação (sinal+ruído) para calcular a matriz de covariância. Visualize sua matriz de correlação. Qual comportamento geral desta matriz? \n",
    " "
   ]
  },
  {
   "cell_type": "code",
   "execution_count": null,
   "id": "4af2f4cb-7a01-4aec-b160-17c443373018",
   "metadata": {},
   "outputs": [],
   "source": [
    " "
   ]
  },
  {
   "cell_type": "markdown",
   "id": "043dac30-3505-4492-9674-9ada5249a787",
   "metadata": {},
   "source": [
    "-------\n",
    "## 🎯 Barras de erro: Fórmula de Knox (covariância gaussiana)\n",
    " ============================================================\n",
    "\n",
    " \n",
    " A incerteza estatística em C_ell vem de duas fontes principais:\n",
    "-  variância cósmica (campo gaussiano limitado por área do céu)\n",
    "- ruído instrumental\n",
    "\n",
    "Assumindo erros gaussianos e matriz de covariância diagonal, é possível estimar os erros através da\n",
    "\n",
    "# Fórmula de Knox:\n",
    "\\begin{equation}\n",
    " (\\Delta C_ell)^2 = \\frac{2}{[(2l + 1) * Δl * f_{\\rm sky}] }* (C_ell + N_ell)^2 \n",
    "\\end{equation}\n",
    " onde:\n",
    " f_sky = fração do céu coberta\n",
    " Δl = largura do bin em l\n",
    " N_ell = espectro do ruído  \n",
    "\n"
   ]
  },
  {
   "cell_type": "markdown",
   "id": "827150cf-7eab-49d7-b5e2-29c852e07083",
   "metadata": {},
   "source": [
    "# 🧩 Utilize a formula de Knox para estimar as barras de erro. Compare com as estimativas provenientes das simulações.  "
   ]
  },
  {
   "cell_type": "code",
   "execution_count": null,
   "id": "57c54c8a",
   "metadata": {},
   "outputs": [],
   "source": [
    " "
   ]
  },
  {
   "cell_type": "code",
   "execution_count": null,
   "id": "c71e36c0-7eb7-4452-b6fe-fea239d1e793",
   "metadata": {
    "scrolled": true
   },
   "outputs": [],
   "source": [
    " "
   ]
  },
  {
   "cell_type": "markdown",
   "id": "1acd058f-cbfd-4616-a36e-bd239beaadb0",
   "metadata": {
    "scrolled": true
   },
   "source": [
    " # 🧩 Salve num arquivo .npy/.dat o [Cl medido acima ('dado'), ell_bin, barra de erro]"
   ]
  },
  {
   "cell_type": "code",
   "execution_count": null,
   "id": "c1ee3ec0-3966-43d7-94bb-7bd1a0168d72",
   "metadata": {},
   "outputs": [],
   "source": [
    " "
   ]
  },
  {
   "cell_type": "code",
   "execution_count": null,
   "id": "53c2708e-b637-420f-ace5-ef2a710322c9",
   "metadata": {},
   "outputs": [],
   "source": []
  },
  {
   "cell_type": "code",
   "execution_count": null,
   "id": "c7f3b359-d7f8-4385-86df-5a9b8f951264",
   "metadata": {},
   "outputs": [],
   "source": []
  },
  {
   "cell_type": "markdown",
   "id": "f19507a7",
   "metadata": {},
   "source": [
    "\n",
    "# 🌀 Filtragem no Espaço de Frequência (FFT 2D)\n",
    "\n",
    "Nesta seção, aprenderemos como **filtrar componentes em frequência** em um mapa no céu plano.\n",
    "Isso é útil para remover ruídos instrumentais, como o **ruído atmosférico**, que costuma ter espectro de potência proporcional a \\(1/f\\) — ou seja, domina em baixas frequências (grandes escalas angulares).\n",
    "\n",
    "---\n",
    "\n",
    "## 🎯 Conceito\n",
    "\n",
    " \n",
    "\n",
    "- Cada ponto \\((k_x, k_y)\\) no espaço de Fourier representa **um modo espacial** com certa frequência angular.  \n",
    "- Filtros atuam **multiplicando** os modos de Fourier por uma função de resposta:\n",
    "  \\begin{equation}\n",
    "  \\tilde{M}_\\text{filtrado} = \\tilde{M}(k_x, k_y) \\times F(k_x, k_y)\n",
    "  \\end{equation}\n",
    "  e o mapa filtrado é recuperado com a **transformada inversa**.\n",
    "\n",
    "Exemplos:\n",
    "- **Filtro passa-alta (High-pass):** remove grandes escalas (baixa frequência, ruído 1/f).\n",
    "- **Filtro passa-baixa (Low-pass):** remove pequenas escalas (ruído de pixel / ruído instrumental).\n",
    "\n",
    "---\n"
   ]
  },
  {
   "cell_type": "code",
   "execution_count": null,
   "id": "9e91c3c6-baff-4d95-b1eb-ee10042d650b",
   "metadata": {},
   "outputs": [],
   "source": [
    "\n",
    "def highpass_filter(kgrid, k_cut):\n",
    "    return 1.0 - np.exp(-(kgrid / k_cut)**2)\n",
    "\n",
    "def lowpass_filter(kgrid, k_cut):\n",
    "    return np.exp(-(kgrid / k_cut)**2)\n",
    "\n",
    "def bandpass_filter(kgrid, kmin, kmax):\n",
    "    return highpass_filter(kgrid, kmin) * lowpass_filter(kgrid, kmax)\n"
   ]
  },
  {
   "cell_type": "code",
   "execution_count": null,
   "id": "e68d5f6d-e863-4ee2-b962-3d0edfa1497e",
   "metadata": {},
   "outputs": [],
   "source": [
    " "
   ]
  },
  {
   "cell_type": "code",
   "execution_count": null,
   "id": "7ad55af2",
   "metadata": {},
   "outputs": [],
   "source": [
    "from numpy.fft import fft2, ifft2, fftfreq,fftshift\n",
    "\n",
    "# Parâmetros do mapa\n",
    "npix = 512\n",
    "box_deg = 60.0\n",
    "box_rad = np.deg2rad(box_deg)\n",
    "pix_size = box_rad / npix\n",
    "\n",
    "# Gera um \"sinal cosmológico\" suave (campo gaussiano branco)\n",
    "rng = np.random.default_rng(10)\n",
    "sim  = simulate_gaussian_from_Cl(ell_theory , cl_th_input, npix=512, box_deg=60, seed= rng, ell_bins=ell_bins)\n",
    "signal = sim   \n",
    "\n",
    "fft_map = np.fft.fftshift(np.fft.fft2(sim))\n",
    "\n",
    "kx = np.fft.fftfreq(npix, d=box_deg/npix)\n",
    "ky = np.fft.fftfreq(npix, d=box_deg/npix)\n",
    "kx, ky = np.meshgrid(np.fft.fftshift(kx), np.fft.fftshift(ky))\n",
    "k = np.sqrt(kx**2 + ky**2)\n",
    "\n",
    "# --- Define filtros\n",
    "k_cut = 0.1 # valor de corte arbitrário (em ciclos/deg)\n",
    "low_pass = (k < k_cut)\n",
    "high_pass = (k > k_cut)\n",
    "\n",
    "\n",
    "# --- Aplica os filtros\n",
    "fft_low = fft_map * low_pass\n",
    "fft_high = fft_map * high_pass\n",
    "\n",
    "# --- Transforma de volta ao espaço real\n",
    "map_low = np.real(np.fft.ifft2(np.fft.ifftshift(fft_low)))\n",
    "map_high = np.real(np.fft.ifft2(np.fft.ifftshift(fft_high)))\n",
    "\n",
    "# --- Visualização\n",
    "fig, axs = plt.subplots(1, 3, figsize=(15, 4))\n",
    "vmax = np.max(np.abs(sim))\n",
    "for ax, m, t in zip(axs, [sim, map_low, map_high],\n",
    "                    ['Original', 'Low-pass (suavizado)', 'High-pass (detalhes)']):\n",
    "    im = ax.imshow(m, origin='lower', cmap='coolwarm', vmin=-vmax, vmax=vmax)\n",
    "    ax.set_title(t)\n",
    "plt.colorbar(im, ax=axs.ravel().tolist(), shrink=0.6)\n",
    "plt.show()\n",
    "\n"
   ]
  },
  {
   "cell_type": "markdown",
   "id": "4457e6be-038d-49a8-bf1f-9513390ff714",
   "metadata": {},
   "source": [
    "# 🧩 Teste diferentes valores de k_cut e observe como o mapa muda.\n",
    "\n",
    "O que acontece se k_cut = 0.05?\n",
    "\n",
    "E se k_cut = 2.0?\n",
    "\n",
    "Faça o gráfico do espectro de potência do mapa original, low-pass e high-pass.\n",
    "\n",
    "Verifique em que regiões do k o filtro atua."
   ]
  },
  {
   "cell_type": "code",
   "execution_count": null,
   "id": "82c31e17-da4a-4f7d-892b-f2a006f29331",
   "metadata": {},
   "outputs": [],
   "source": [
    " "
   ]
  },
  {
   "cell_type": "markdown",
   "id": "403b9f35-644d-4b37-a9f7-b544f8acb99a",
   "metadata": {},
   "source": [
    "# 🧩   Aplique um **filtro passa-banda** que mantenha apenas as frequências intermediárias,  \n",
    "entre `k_min    ` e `k_max `.\n",
    "\n",
    "1. Crie o filtro:\n",
    "   \\begin{equation}\n",
    "   F(k) = \\exp\\!\\left(-\\left(\\frac{k_\\text{min}}{k}\\right)^4\\right) \\times \\exp\\!\\left(-\\left(\\frac{k}{k_\\text{max}}\\right)^4\\right)\n",
    "   \\end{equation}\n",
    "2. Aplique ao mapa em Fourier.  \n",
    "3. Mostre o resultado.\n",
    "\n",
    "---"
   ]
  },
  {
   "cell_type": "code",
   "execution_count": null,
   "id": "25c55d10-13d7-44b6-9ed5-8bddf7eb5962",
   "metadata": {},
   "outputs": [],
   "source": [
    " "
   ]
  },
  {
   "cell_type": "code",
   "execution_count": null,
   "id": "53de31c4-0376-4bb3-9af5-7a12151dafcf",
   "metadata": {},
   "outputs": [],
   "source": []
  },
  {
   "cell_type": "code",
   "execution_count": null,
   "id": "7ac002ca-528d-4b88-86cc-716b555a6973",
   "metadata": {},
   "outputs": [],
   "source": []
  },
  {
   "cell_type": "markdown",
   "id": "32012d1a-35a4-4274-9eba-622acb1ff791",
   "metadata": {},
   "source": [
    "\n",
    "## 🎯 Exemplo um pouco mais realista- CMB: \n",
    "\n",
    "## Feixe do instrumento, ruído de instrumento e filtragem\n",
    "\n",
    " \n",
    " \n"
   ]
  },
  {
   "cell_type": "code",
   "execution_count": null,
   "id": "d608ce1e-d6c1-4ded-93bc-596239808809",
   "metadata": {},
   "outputs": [],
   "source": [
    "\n",
    "def Poisson_source_component(N, pix_size, Number_of_Sources, Amplitude_of_Sources):\n",
    "    \"\"\"\n",
    "    Generate a realization of a Poisson-distributed point-source map.\n",
    "    \n",
    "    Parameters\n",
    "    ----------\n",
    "    N : int\n",
    "        Number of pixels per map side (map size is N x N).\n",
    "    pix_size : float\n",
    "        Pixel size in degrees (currently not used directly, but kept for consistency).\n",
    "    Number_of_Sources : int\n",
    "        Total number of point sources to randomly place on the map.\n",
    "    Amplitude_of_Sources : float\n",
    "        Mean amplitude of each source, drawn from a Poisson distribution.\n",
    "    \n",
    "    Returns\n",
    "    -------\n",
    "    PSMap : 2D numpy.ndarray\n",
    "        Map containing point sources distributed randomly across the field.\n",
    "    \n",
    "    Notes\n",
    "    -----\n",
    "    - Each source contributes an integer number of counts drawn from a Poisson distribution.\n",
    "    - Multiple sources can fall on the same pixel, summing their amplitudes.\n",
    "    - The resulting map has arbitrary amplitude units (e.g., µK if calibrated).\n",
    "    \"\"\"\n",
    "    PSMap = np.zeros([int(N), int(N)])\n",
    "    i = 0\n",
    "    print(\"Number of sources required: \", Number_of_Sources)\n",
    "    \n",
    "    while i < int(Number_of_Sources):\n",
    "        pix_x = int(N * np.random.rand())\n",
    "        pix_y = int(N * np.random.rand())\n",
    "        PSMap[pix_x, pix_y] += np.random.poisson(Amplitude_of_Sources)\n",
    "        i = i + 1\n",
    "    \n",
    "    return PSMap \n",
    "\n",
    "\n",
    "\n",
    "def Exponential_source_component(\n",
    "    N, pix_size, Number_of_Sources_EX, Amplitude_of_Sources_EX):\n",
    "    \n",
    "    \"\"\"\"\n",
    "    Generate a realization of exponentially distributed point sources.\n",
    "    \n",
    "    Parameters\n",
    "    ----------\n",
    "    N : int\n",
    "        Number of pixels per map side (map size is N x N).\n",
    "    pix_size : float\n",
    "        Pixel size in degrees (currently not used directly, but kept for consistency).\n",
    "    Number_of_Sources_EX : int\n",
    "        Number of point sources to generate.\n",
    "    Amplitude_of_Sources_EX : float\n",
    "        Scale parameter of the exponential distribution (mean source amplitude).\n",
    "    \n",
    "    Returns\n",
    "    -------\n",
    "    PSMap : 2D numpy.ndarray\n",
    "        Map with exponentially distributed point sources.\n",
    "    \n",
    "    Notes\n",
    "    -----\n",
    "    - The amplitude of each source is drawn from an exponential distribution.\n",
    "    - This model is useful for simulating non-Gaussian source populations.\n",
    "    - Units depend on the amplitude normalization used (e.g., µK or Jy/sr).\n",
    "    \"\"\"\n",
    "    N = int(N)\n",
    "    PSMap = np.zeros([N, N])\n",
    "    i = 0\n",
    "    while i < Number_of_Sources_EX:\n",
    "        pix_x = int(N * np.random.rand())\n",
    "        pix_y = int(N * np.random.rand())\n",
    "        PSMap[pix_x, pix_y] += np.random.exponential(Amplitude_of_Sources_EX)\n",
    "        i = i + 1\n",
    "    \n",
    "    return PSMap\n",
    "\n",
    "\n",
    "\n",
    "def SZ_source_component( N, pix_size, Number_of_SZ_Clusters, Mean_Amplitude_of_SZ_Clusters, SZ_beta, SZ_Theta_core, do_plots,\n",
    "):\n",
    "    \"\"\"\n",
    "    Generate a simulated Sunyaev–Zel’dovich (SZ) cluster map using a β-profile model.\n",
    "    \n",
    "    Parameters\n",
    "    ----------\n",
    "    N : int\n",
    "        Number of pixels per map side (map size is N x N).\n",
    "    pix_size : float\n",
    "        Pixel size in degrees.\n",
    "    Number_of_SZ_Clusters : int\n",
    "        Number of SZ clusters to simulate.\n",
    "    Mean_Amplitude_of_SZ_Clusters : float\n",
    "        Mean (absolute) amplitude of cluster signals, drawn from an exponential distribution.\n",
    "    SZ_beta : float\n",
    "        β parameter in the cluster gas density profile: (1 + (r/θ_c)^2)^{(1−3β)/2}.\n",
    "    SZ_Theta_core : float\n",
    "        Core radius θ_c of the clusters, in degrees (must be consistent with pix_size).\n",
    "    do_plots : bool\n",
    "        If True, display histogram of pixel amplitudes (for diagnostic visualization).\n",
    "    \n",
    "    Returns\n",
    "    -------\n",
    "    SZMap : 2D numpy.ndarray\n",
    "        Realistic SZ map convolved with the β-profile.\n",
    "    SZcat : numpy.ndarray\n",
    "        Catalogue of generated clusters with shape (3, Number_of_SZ_Clusters):\n",
    "        - row 0: x pixel positions\n",
    "        - row 1: y pixel positions\n",
    "        - row 2: amplitudes (negative for thermal SZ decrement)\n",
    "    \n",
    "    Notes\n",
    "    -----\n",
    "    - Each cluster starts as a negative exponential amplitude (to mimic thermal SZ).\n",
    "    - The β-profile acts as a spatial smoothing kernel representing the gas distribution.\n",
    "    - Convolution is performed in Fourier space for efficiency.\n",
    "    - The resulting SZ map includes extended cluster profiles with realistic spatial scales.\n",
    "    \"\"\"\n",
    "    \n",
    "    SZMap = np.zeros([N, N])\n",
    "    SZcat = np.zeros(\n",
    "        [3, Number_of_SZ_Clusters]\n",
    "    )  ## catalogue of SZ sources, X, Y, amplitude\n",
    "    # make a distribution of point sources with varying amplitude\n",
    "    i = 0\n",
    "    while i < Number_of_SZ_Clusters:\n",
    "        pix_x = int(N * np.random.rand())\n",
    "        pix_y = int(N * np.random.rand())\n",
    "        pix_amplitude = np.random.exponential(Mean_Amplitude_of_SZ_Clusters) * (-1.0)\n",
    "        SZcat[0, i] = pix_x\n",
    "        SZcat[1, i] = pix_y\n",
    "        SZcat[2, i] = pix_amplitude\n",
    "        SZMap[pix_x, pix_y] += pix_amplitude\n",
    "        i = i + 1\n",
    "    if do_plots:\n",
    "        hist, bin_edges = np.histogram(SZMap, bins=50, range=[SZMap.min(), -10])\n",
    "        plt.semilogy(bin_edges[0:-1], hist)\n",
    "        plt.xlabel(r\"source amplitude [$\\mu$K]\")\n",
    "        plt.ylabel(\"number or pixels\")\n",
    "        plt.show()\n",
    "    \n",
    "    # make a beta function\n",
    "    beta = beta_function(N, pix_size, SZ_beta, SZ_Theta_core)\n",
    "    \n",
    "    # convovle the beta funciton with the point source amplitude to get the SZ map\n",
    "    FT_beta = np.fft.fft2(np.fft.fftshift(beta))\n",
    "    FT_SZMap = np.fft.fft2(np.fft.fftshift(SZMap))\n",
    "    SZMap = np.fft.fftshift(np.real(np.fft.ifft2(FT_beta * FT_SZMap)))\n",
    "    \n",
    "    # return the SZ map\n",
    "    return (SZMap, SZcat)\n",
    "    \n",
    "\n",
    "\n",
    "\n",
    "def beta_function(N, pix_size, SZ_beta, SZ_Theta_core):\n",
    "    \"\"\"\n",
    "    Compute a 2D β-profile function used for SZ cluster modeling.\n",
    "    \n",
    "    Parameters\n",
    "    ----------\n",
    "    N : int\n",
    "        Number of pixels per map side.\n",
    "    pix_size : float\n",
    "        Pixel size in degrees.\n",
    "    SZ_beta : float\n",
    "        β parameter controlling the slope of the cluster gas profile.\n",
    "    SZ_Theta_core : float\n",
    "        Core radius θ_c in degrees.\n",
    "    \n",
    "    Returns\n",
    "    -------\n",
    "    beta : 2D numpy.ndarray\n",
    "        β-profile map centered at the middle of the image.\n",
    "    \n",
    "    Notes\n",
    "    -----\n",
    "    - The profile follows: β(r) = [1 + (r/θ_c)^2]^{(1−3β)/2}.\n",
    "    - Common values: β ≈ 2/3 and θ_c ≈ 1–10 arcmin (converted to degrees).\n",
    "    - This function is normalized in arbitrary units, typically used as a convolution kernel.\n",
    "    \"\"\"\n",
    "    # make a beta function\n",
    "     \n",
    "    ones = np.ones(N)\n",
    "    inds = (np.arange(N) + 0.5 - N / 2.0) * pix_size\n",
    "    X = np.outer(ones, inds)\n",
    "    Y = np.transpose(X)\n",
    "    R = np.sqrt(X**2.0 + Y**2.0)\n",
    "    \n",
    "    beta = (1 + (R / SZ_Theta_core) ** 2.0) ** ((1 - 3.0 * SZ_beta) / 2.0)\n",
    "    \n",
    "    # return the beta function map\n",
    "    return beta\n",
    "\n"
   ]
  },
  {
   "cell_type": "markdown",
   "id": "7302ec07-2cfe-4e4d-8d13-626bcfa04d9d",
   "metadata": {},
   "source": [
    " # Simulate CMB + SZ clusters: "
   ]
  },
  {
   "cell_type": "code",
   "execution_count": null,
   "id": "d99f4c23-8284-4d9d-bcd9-a639b7b887fb",
   "metadata": {},
   "outputs": [],
   "source": [
    "# 1) \n",
    " \n",
    "dl_th_input = np.load(path+'cl_tt_cov_class.npy')\n",
    "ell_theory = np.arange(len(dl_th_input))\n",
    "dl = (ell_theory*(ell_theory+1))/2*np.pi\n",
    "\n",
    "cl_th_input = dl_th_input[1:]/dl[1:]\n",
    "\n",
    "\n",
    "pix_size_arcmin = pix_size*(60*180)/np.pi\n",
    "\n",
    "sim  = simulate_gaussian_from_Cl(ell_theory[1:] , cl_th_input, npix=512, box_deg=60, seed=42, ell_bins=ell_bins)\n",
    "plt.imshow(sim)\n",
    "plt.colorbar()\n",
    "\n",
    " \n",
    "Number_of_SZ_Clusters = 1000\n",
    "Mean_Amplitude_of_SZ_Clusters =  100*1e-6\n",
    "SZ_beta = 0.86\n",
    "SZ_Theta_core = np.deg2rad(5.0/60) ## 5 arcmin\n",
    "\n",
    " \n",
    "SZMap,SZCat = SZ_source_component(npix,pix_size_arcmin,Number_of_SZ_Clusters,\\\n",
    "                                  Mean_Amplitude_of_SZ_Clusters,SZ_beta,SZ_Theta_core,False)\n",
    "\n",
    "\n",
    "plt.figure()\n",
    "plt.imshow(sim*1e6, cmap='RdBu_r')\n",
    "plt.title('CMB noiseless')\n",
    "plt.colorbar()\n",
    "\n",
    "\n",
    "\n",
    "plt.figure()\n",
    "plt.imshow(SZMap*1e6, cmap='RdBu_r')\n",
    "plt.title('SZ map' )\n",
    "plt.colorbar()\n",
    "\n",
    "map_total = sim+ SZMap  \n",
    "\n",
    "\n",
    "\n",
    "plt.figure(figsize=(8,10))\n",
    "plt.imshow(map_total*1e6, cmap='RdBu_r' )\n",
    "plt.title(' maptotal' )\n",
    "plt.colorbar()"
   ]
  },
  {
   "cell_type": "markdown",
   "id": "c5848d74-b92b-46ee-9f2b-9b82bd660696",
   "metadata": {},
   "source": [
    "# 🧩  ** Calcule o espectro de potência da simulação com e sem fonte SZ.\n",
    "\n",
    "1.  Qual alteração observada?\n",
    "\n",
    "---"
   ]
  },
  {
   "cell_type": "code",
   "execution_count": null,
   "id": "d4f42118-55e5-4987-9698-516cda9cf5e1",
   "metadata": {},
   "outputs": [],
   "source": [
    " "
   ]
  },
  {
   "cell_type": "markdown",
   "id": "3ca09f50-e191-4f58-9567-299a2becdb67",
   "metadata": {},
   "source": [
    " ## Mapa do Céu Convoluído por um Feixe\n",
    "\n",
    "Telescópios sofrem de difração, o que leva a efeitos de resolução finita. Para levar isso em conta, geramos um padrão de feixe gaussiano e convoluímos o mapa com ele.\n"
   ]
  },
  {
   "cell_type": "code",
   "execution_count": null,
   "id": "30c5e2fc-8265-4155-a7a3-1659cc0a8183",
   "metadata": {},
   "outputs": [],
   "source": [
    " \n",
    "\n",
    "def convolve_map_with_gaussian_beam_fourier(map_in, pix_size_arcmin, fwhm_arcmin):\n",
    "    \"\"\"\n",
    "    Convolui mapa flat-sky com feixe gaussiano em Fourier (corretamente em unidades físicas).\n",
    "    \"\"\"\n",
    "    N = map_in.shape[0]\n",
    "    pix_size_rad = np.deg2rad(pix_size_arcmin / 60.0)\n",
    "    box_size_rad = N * pix_size_rad\n",
    "\n",
    "    # Eixo de Fourier em rad^-1\n",
    "    kx = np.fft.fftfreq(N, d=pix_size_rad) * 2 * np.pi  # -> rad^-1\n",
    "    ky = np.fft.fftfreq(N, d=pix_size_rad) * 2 * np.pi\n",
    "    kx, ky = np.meshgrid(kx, ky)\n",
    "    ell = np.sqrt(kx**2 + ky**2)  # flat-sky ℓ\n",
    "\n",
    "    # Converte fwhm para sigma em rad\n",
    "    fwhm_rad = np.deg2rad(fwhm_arcmin / 60.0)\n",
    "    sigma_rad = fwhm_rad / np.sqrt(8.0 * np.log(2.0))\n",
    "\n",
    "    # Beam no espaço de Fourier\n",
    "    B_ell = np.exp(-0.5 * ell**2 * sigma_rad**2)\n",
    "\n",
    "    # FFT do mapa e aplicação do beam\n",
    "    FT_map = np.fft.fft2(map_in)\n",
    "    FT_smoothed = FT_map * B_ell\n",
    "    map_smooth = np.real(np.fft.ifft2(FT_smoothed))\n",
    "\n",
    "    return map_smooth\n",
    "\n",
    "\n",
    "beam_size_fwhp = 7.0 # arcminutes\n",
    "    \n",
    "CMB_T_convolved = convolve_map_with_gaussian_beam_fourier( map_total,pix_size_arcmin,beam_size_fwhp)\n",
    "\n",
    "\n",
    "plt.figure()\n",
    "plt.imshow(map_total, cmap='RdBu_r' )\n",
    "plt.colorbar()\n",
    "\n",
    "\n",
    "plt.figure()\n",
    "plt.imshow(CMB_T_convolved, cmap='RdBu_r' )\n",
    "plt.title('(CMB + SZ) beam' )\n",
    "plt.colorbar() "
   ]
  },
  {
   "cell_type": "markdown",
   "id": "66267eca-1078-4600-b26c-7c5d9d1732d3",
   "metadata": {},
   "source": [
    "# 🧩  **   Existem três tamanhos típicos de feixe para experimentos de CMB:\n",
    "1) observatórios de modo B de grande escala angular, com feixes de ~30 minutos de arco;\n",
    "2) observatórios de média escala, como o satélite Planck, com feixes de ~7 minutos de arco; e\n",
    "3) observatórios de alta resolução, como o ACT e o SPT, com feixes de ~1 minuto de arco.\n",
    "4) \n",
    "**Convolva seu mapa com cada um desses casos e compare as diferenças no espectro de potência.**"
   ]
  },
  {
   "cell_type": "code",
   "execution_count": null,
   "id": "9bcb0e77-0b79-4e20-bcca-5d833a90b1e1",
   "metadata": {
    "scrolled": true
   },
   "outputs": [],
   "source": [
    " "
   ]
  },
  {
   "cell_type": "markdown",
   "id": "d5a8310b-7f6c-4084-8e9e-aa27cf11ff29",
   "metadata": {},
   "source": [
    "# É possível estimar o efeito esperado do feixe diretamente no $C_{\\ell}$: \n",
    "# $C_{\\ell}^{\\rm obs} = C_{\\ell}^{\\rm true} * B_{\\ell}^2$\n",
    "$B_{\\ell} = \\exp (-\\ell(\\ell+1)\\sigma^2_{b}/2)$  e $\\sigma_b = \\rm{FWHM} (\\rm rad)/(8\\sqrt{\\ln 2})$"
   ]
  },
  {
   "cell_type": "markdown",
   "id": "1c438d69-fe4c-4c9e-ad2f-3916a0071389",
   "metadata": {},
   "source": [
    "# 🧩  **  Calcule o efeito esperado do feixe e compare com as medidas anteriores"
   ]
  },
  {
   "cell_type": "code",
   "execution_count": null,
   "id": "61f9f894-c8fa-47cc-998c-a660b44927ec",
   "metadata": {},
   "outputs": [],
   "source": [
    " "
   ]
  },
  {
   "cell_type": "markdown",
   "id": "570c1691-39da-47a4-a541-8c7c5815ce78",
   "metadata": {},
   "source": [
    "# Instrumentos terrestres sofrem com vários tipos de ruído.\n",
    "Isso inclui:\n",
    "(1) Ruído branco extraído de uma distribuição gaussiana; \n",
    "\n",
    "(2) Ruído atmosférico que cresce em grandes escalas angulares ; e \n",
    "\n",
    "(3) Ruído $1/f$ nos detectores. \n",
    "\n",
    "Tanto o ruído atmosférico quanto o $1/f$ do detector se manifestam como ruído correlacionado no espaço do mapa. No entanto, assim como o CMB, esses componentes de ruído são quase não correlacionados no espaço de Fourier. Construímos esses termos de ruído no espaço de Fourier e os exibimos no espaço do mapa."
   ]
  },
  {
   "cell_type": "code",
   "execution_count": null,
   "id": "5868e67d-b2c2-4efa-b9bf-42958af2a6f7",
   "metadata": {
    "scrolled": true
   },
   "outputs": [],
   "source": [
    "white_noise_level =  10.*1e-6\n",
    "atmospheric_noise_level = 0.5*1e-6  # multiply by zero to turn this off\n",
    "one_over_f_noise_level =   0.5*1e-6 # multiply by zero to turn this off\n",
    "\n",
    "def make_noise_map(N,pix_size,white_noise_level,atmospheric_noise_level,one_over_f_noise_level):\n",
    "    \"makes a realization of instrument noise, atmosphere and 1/f noise level set at 1 degrees\"\n",
    "    ## make a white noise map\n",
    "    white_noise = np.random.normal(0,1,(N,N)) * white_noise_level/pix_size\n",
    " \n",
    "    ## make an atnosperhic noise map\n",
    "    atmospheric_noise = 0.\n",
    "    if (atmospheric_noise_level != 0):\n",
    "        ones = np.ones(N)\n",
    "        inds  = (np.arange(N)+.5 - N/2.) \n",
    "        X = np.outer(ones,inds)\n",
    "        Y = np.transpose(X)\n",
    "        R = np.sqrt(X**2. + Y**2.) * pix_size /60. ## angles relative to 1 degrees  \n",
    "        mag_k = 2 * np.pi/(R+.01)  ## 0.01 is a regularization factor\n",
    "        atmospheric_noise = np.fft.fft2(np.random.normal(0,1,(N,N)))\n",
    "        atmospheric_noise  = np.fft.ifft2(atmospheric_noise * np.fft.fftshift(mag_k**(5/3.)))\n",
    "        atmospheric_noise = atmospheric_noise * atmospheric_noise_level/pix_size\n",
    "\n",
    "    ## make a 1/f map, along a single direction to illustrate striping \n",
    "    oneoverf_noise = 0.\n",
    "    if (one_over_f_noise_level != 0): \n",
    "        ones = np.ones(N)\n",
    "        inds  = (np.arange(N)+.5 - N/2.) \n",
    "        X = np.outer(ones,inds) * pix_size /60. ## angles relative to 1 degrees \n",
    "        kx = 2 * np.pi/(X+.01) ## 0.01 is a regularization factor\n",
    "        oneoverf_noise = np.fft.fft2(np.random.normal(0,1,(N,N)))\n",
    "        oneoverf_noise = np.fft.ifft2(oneoverf_noise * np.fft.fftshift(kx))\n",
    "        oneoverf_noise = oneoverf_noise * one_over_f_noise_level/pix_size\n",
    "\n",
    "    ## return the noise map\n",
    "    noise_map = np.real(white_noise + atmospheric_noise + oneoverf_noise)\n",
    "    return(noise_map)\n",
    "  ###############################\n",
    "\n",
    "## make an instrument noise map\n",
    "Noise_CMB = make_noise_map(npix,pix_size_arcmin,white_noise_level,atmospheric_noise_level,one_over_f_noise_level)\n",
    "\n",
    "plt.imshow(Noise_CMB)\n",
    "plt.title('1/f + white + atmospheric noise')\n",
    "plt.colorbar()\n",
    " "
   ]
  },
  {
   "cell_type": "markdown",
   "id": "572b6221-a840-49bf-aece-83bed20d97f0",
   "metadata": {},
   "source": [
    "# 🧩  A simulação acima apresenta ruído atmosférico e de detector $1/f$. Para entender esses componentes separadamente, desative cada um e faça gráficos de cada componente separadamente. Comente como eles se parecem. Represente graficamente o valor absoluto da FFT 2-d desses mapas e observe como as componentes são localizadas. \n",
    "\n",
    "Obs: Este mapa não pressupõe cross-linking; o $1/f$ pareceria diferente se houvesse duas ou mais direções de varredura no mapa.\n"
   ]
  },
  {
   "cell_type": "code",
   "execution_count": null,
   "id": "7775b975-a97f-4b89-b422-a77db399360a",
   "metadata": {},
   "outputs": [],
   "source": [
    " "
   ]
  },
  {
   "cell_type": "code",
   "execution_count": null,
   "id": "5adc8f5a-e321-4d16-8d4a-04b0c586e5bc",
   "metadata": {},
   "outputs": [],
   "source": []
  },
  {
   "cell_type": "markdown",
   "id": "589cfb4c-1711-47ca-8156-5fe425ca48fd",
   "metadata": {},
   "source": [
    "## 🎯 Vamos utilizar nosso aprendizado sobre filtros diretamente nos mapas! \n",
    "\n",
    "Em mapas com ruído dependente da frequência, muitas vezes é vantajoso filtrar os mapas para \"branquear\" o espectro de ruído.  Tanto para ruído atmosférico quanto para ruído de 1/f, um filtro do tipo 'high-pass' seria uma escolha eficaz. Abaixo, segue o código que mascara $N_{mask}$  modos de Fourier ao longo da direção da varredura. Veja o exercício abaixo!"
   ]
  },
  {
   "cell_type": "code",
   "execution_count": null,
   "id": "4494d630-a461-4320-979e-052bc6950054",
   "metadata": {},
   "outputs": [],
   "source": [
    "N_mask =4\n",
    "\n",
    "def Filter_Map(Map,N,N_mask):\n",
    "    ## set up a x, y, and r coordinates for mask generation\n",
    "    ones = np.ones(N) # N is the size of the map\n",
    "    inds  = (np.arange(N)+.5 - N/2.) \n",
    "\n",
    "    X = np.outer(ones,inds)\n",
    "    Y = np.transpose(X)\n",
    "    R = np.sqrt(X**2. + Y**2.)  ## angles realative to 1 degrees  \n",
    "    \n",
    "    ## make a mask\n",
    "    mask  = np.ones([N,N])\n",
    "    mask[np.where(np.abs(X) < N_mask)]  = 0\n",
    "    \n",
    "    ## apply the filter in fourier space\n",
    "    FMap = np.fft.fftshift(np.fft.ifft2(np.fft.fftshift(Map)))\n",
    "    FMap_filtered = FMap * mask\n",
    "    Map_filtered = np.real(np.fft.fftshift(np.fft.fft2(np.fft.fftshift(FMap_filtered))))\n",
    "    \n",
    "    ## return the output\n",
    "    return(Map_filtered)\n",
    "\n",
    "\n",
    "filtered_noise_CMB = Filter_Map(Noise_CMB,npix,N_mask)\n",
    "\n",
    "\n",
    "plt.figure()\n",
    "plt.imshow(filtered_noise_CMB, cmap='RdBu_r')\n",
    "plt.title('Mapa do ruído filtrado')\n",
    "plt.colorbar()\n",
    "\n",
    "plt.figure()\n",
    "plt.imshow(Noise_CMB, cmap='RdBu_r')\n",
    "plt.title('Mapa do ruído original')\n",
    "\n",
    "plt.colorbar()"
   ]
  },
  {
   "cell_type": "code",
   "execution_count": null,
   "id": "ed31630d-94e7-4f7b-84e5-7630b8561ecd",
   "metadata": {},
   "outputs": [],
   "source": [
    " "
   ]
  },
  {
   "cell_type": "markdown",
   "id": "e4167d07-d23f-4c7e-ae79-69ababf2777b",
   "metadata": {},
   "source": [
    "# 🧩   Encontre o valor de $N_{mask}$ mínima que efetivamente \"clareia\" o espectro de ruído com o filtro $1/f$  ativado. Veja como este filtro funciona para ruído atmosférico. Comente se este filtro funciona e se é uma boa escolha para ruído atmosférico."
   ]
  },
  {
   "cell_type": "code",
   "execution_count": null,
   "id": "81c122cc-6592-46df-8016-b8fd8bfdd472",
   "metadata": {
    "scrolled": true
   },
   "outputs": [],
   "source": [
    " "
   ]
  },
  {
   "cell_type": "code",
   "execution_count": null,
   "id": "73420c95-f225-4556-b241-2f8d78275def",
   "metadata": {},
   "outputs": [],
   "source": [
    " "
   ]
  },
  {
   "cell_type": "code",
   "execution_count": null,
   "id": "b095b1e7-1858-4c2d-a857-acd2a6c004ee",
   "metadata": {},
   "outputs": [],
   "source": [
    " "
   ]
  },
  {
   "cell_type": "markdown",
   "id": "5c8ac718-8532-4fc8-91a6-812792e4b19c",
   "metadata": {},
   "source": [
    "# Some as componentes anteriores  (CMB_sinal) com efeito de beam + ruído e visualize o mapa total.   \n",
    " "
   ]
  },
  {
   "cell_type": "code",
   "execution_count": null,
   "id": "8fb0646a-8cad-46c0-84fa-11249fa85c8f",
   "metadata": {},
   "outputs": [],
   "source": [
    " "
   ]
  }
 ],
 "metadata": {
  "kernelspec": {
   "display_name": "Python 3 (ipykernel)",
   "language": "python",
   "name": "python3"
  },
  "language_info": {
   "codemirror_mode": {
    "name": "ipython",
    "version": 3
   },
   "file_extension": ".py",
   "mimetype": "text/x-python",
   "name": "python",
   "nbconvert_exporter": "python",
   "pygments_lexer": "ipython3",
   "version": "3.8.18"
  }
 },
 "nbformat": 4,
 "nbformat_minor": 5
}
