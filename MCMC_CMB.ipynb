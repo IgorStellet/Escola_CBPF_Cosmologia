{
 "cells": [
  {
   "cell_type": "markdown",
   "id": "60e6b224",
   "metadata": {},
   "source": [
    "# Monte Carlo Markov Chains para CMB\n",
    "\n",
    "Agora que vimos os conceitos básicos de MCMC e análise estatística, é a sua vez. A Gabriela gerou dados observacionais da temperatura de CMB, enquanto o Guilherme explicou como fornecer previsões teóricas. O objetivo é obter intervalos de confiança para dois parâmetros cosmológicos:\n",
    "- $\\Omega_m$: fração que matéria não-relativística (\"baryons\" + dark matter + neutrinos massivos) representam da energia total no Universo;\n",
    "- $\\sigma_8$: variância do campo de densidade de matéria hoje, $\\delta_m(\\mathbf{x}, z = 0)$, dentro de esferas de raio $R = 8h/\\mathrm{Mpc}$.\n",
    "\n",
    "Vou deixar vocês com um código base, copiado da Gabriela e do Guilherme.\n",
    "\n",
    "Me chamem se tiverem qualquer dúvida ou problema!\n",
    "\n",
    "Dicas:\n",
    "- O notebook `MCMC_supernovas.ipynb` já tem uma implementação de Metropolis-Hastings pronta. Você pode copiar e colar, mas tem que refatorar o código para esse problema:\n",
    "  - É necessário mudar os parâmetros que são sampleados\n",
    "  - Repensar priors e proposal\n",
    "- Os $C_\\ell$ teóricos são dados em $\\ell$ inteiro, enquanto os dados são binados, e portanto tem $\\ell$ fracionário. Talvez você queira aplicar uma interpolação\n",
    "- Você pode explorar alguns valores de $\\Omega_m$ e $\\sigma_8$ na mão usando a célula acima: isso pode te dar uma informação valiosa sobre o ponto inicial da MCMC"
   ]
  },
  {
   "cell_type": "code",
   "execution_count": 13,
   "id": "a4fdc2a0",
   "metadata": {},
   "outputs": [],
   "source": [
    "import numpy as np\n",
    "import matplotlib.pyplot as plt\n",
    "from classy import Class"
   ]
  },
  {
   "cell_type": "code",
   "execution_count": 14,
   "id": "149dff46",
   "metadata": {},
   "outputs": [],
   "source": [
    "def get_cmb_cl(Omega_m, sigma_8):\n",
    "    params = {\n",
    "        # -------------------- SAÍDAS --------------------\n",
    "        'modes'  : 's',\n",
    "        'output' : 'tCl, pCl, lCl',\n",
    "        'lensing': 'yes',\n",
    "        'l_max_scalars': 2500,\n",
    "\n",
    "        # ----------------- COSMOLOGIA -------------------\n",
    "        # DE como fld (Ω_Λ=0 e w0/wa dados)\n",
    "        'Omega_Lambda': 0,\n",
    "        'w0_fld'      : '-1.',\n",
    "        'wa_fld'      : '0.0',\n",
    "\n",
    "        # Primordial\n",
    "        'sigma8': sigma_8,\n",
    "        'n_s'   : 0.96,\n",
    "\n",
    "        # Verbosidade/Gauge\n",
    "        'background_verbose'   : 0,\n",
    "        'perturbations_verbose': 0,\n",
    "        'gauge'                : 'Synchronous',\n",
    "\n",
    "        # Fundo\n",
    "        'h'        : 0.673,\n",
    "        'Omega_b'  : 0.05,\n",
    "        'Omega_cdm': Omega_m - 0.05,  # valor fiducial\n",
    "        'Omega_k'  : 0.0,\n",
    "    }\n",
    "    M = Class(); M.set(params); M.compute()\n",
    "    lensed = M.lensed_cl(2500)   \n",
    "    ell   = np.asarray(lensed['ell'])\n",
    "    clTT  = np.asarray(lensed['tt'])\n",
    "    return ell, clTT"
   ]
  },
  {
   "cell_type": "code",
   "execution_count": 15,
   "id": "2a173020",
   "metadata": {},
   "outputs": [],
   "source": [
    "# Dados observacionais\n",
    "data_clTT = np.array([2.60553702e-12, 2.02788402e-12, 1.06423433e-12, 1.09773609e-12,\n",
    "       6.86447452e-13, 6.64750665e-13, 4.83504357e-13, 3.94839786e-13,\n",
    "       2.53850938e-13, 1.22401972e-13, 3.65252749e-14, 2.31454934e-14,\n",
    "       1.26393137e-14, 7.03466801e-15, 2.64865318e-15, 1.05617902e-15,\n",
    "       3.44741822e-16, 8.88152228e-17, 2.46245051e-17, 7.77417404e-18])\n",
    "data_ell = np.array([  34.18020275,   43.70554792,   55.88541803,   71.45957658,\n",
    "         91.37394449,  116.83805209,  149.39850188,  191.03290378,\n",
    "        244.26998844,  312.34319361,  399.38705209,  510.68830901,\n",
    "        653.00702063,  834.98713689, 1067.68150534, 1365.22318305,\n",
    "       1745.68383008, 2232.17132   , 2854.23323282, 3649.6514736 ])"
   ]
  },
  {
   "cell_type": "code",
   "execution_count": 17,
   "id": "d4a35a0c",
   "metadata": {},
   "outputs": [
    {
     "data": {
      "text/plain": [
       "Text(0, 0.5, '$C_\\\\ell^{TT}$')"
      ]
     },
     "execution_count": 17,
     "metadata": {},
     "output_type": "execute_result"
    },
    {
     "data": {
      "image/png": "[encoded data removed]",
      "text/plain": [
       "<Figure size 640x480 with 1 Axes>"
      ]
     },
     "metadata": {},
     "output_type": "display_data"
    }
   ],
   "source": [
    "# Exemplo de cosmologia\n",
    "# NOTE: o fator ell*(ell+1)/(2*pi) é apenas para fins de visualização\n",
    "ell, clTT = get_cmb_cl(Omega_m=0.3, sigma_8=0.800)\n",
    "plt.loglog(ell, ell*(ell+1)*clTT/(2*np.pi), label=f\"$\\\\Omega_m = 0.3$, $\\\\sigma_8 = 0.800$\")\n",
    "plt.scatter(data_ell, data_ell*(data_ell+1)*data_clTT/(2*np.pi), s=4, color=\"black\", label=\"data\")\n",
    "plt.legend()\n",
    "plt.xlabel(\"$\\\\ell$\")\n",
    "plt.ylabel(\"$C_\\\\ell^{TT}$\")"
   ]
  },
  {
   "cell_type": "code",
   "execution_count": null,
   "id": "506d29bd",
   "metadata": {},
   "outputs": [],
   "source": [
    "# Solução:\n",
    "from random import uniform\n",
    "from time import time\n",
    "class MCMCWalker:\n",
    "    \"\"\"\n",
    "        Helper class for managing MCMCs. The class contains methods for performing Monte Carlo steps and saves the state.\n",
    "    \"\"\"\n",
    "    def __init__(self):\n",
    "        # Hard-coding an initial point based on the exploration\n",
    "        initial_om = 0.2\n",
    "        initial_sigma8 = 0.880\n",
    "        initial_params = [initial_om, initial_sigma8]\n",
    "        initial_chi2 = chi2(initial_params)\n",
    "        initial_sample = {\n",
    "            'params': initial_params,\n",
    "            'chi2': initial_chi2,\n",
    "            'weight': 1,\n",
    "        }\n",
    "        self.samples = [initial_sample]\n",
    "\n",
    "    def accept_sample(self, params, chi2):\n",
    "        sample = {\n",
    "            'params': params,\n",
    "            'chi2': chi2,\n",
    "            'weight': 1\n",
    "        }\n",
    "        self.samples.append(sample)\n",
    "\n",
    "    def step(self):\n",
    "        while True:\n",
    "            current_chi2 = self.samples[-1]['chi2']\n",
    "            new_om = self.samples[-1]['params'][0] + uniform(-0.25, 0.25)\n",
    "            new_s8 = self.samples[-1]['params'][0] + uniform(-0.1, 0.1)\n",
    "            \n",
    "            new_params = [new_om, new_s8]\n",
    "            if new_om < 0 or new_om > 1 or new_s8 > 1.5 or new_s8 < 0.4:\n",
    "                # Reject point outside the prior\n",
    "                self.samples[-1]['weight'] += 1\n",
    "                continue\n",
    "            new_chi2 = chi2(new_params)\n",
    "            if new_chi2 == np.nan:\n",
    "                # Reject points that have problematic chi2\n",
    "                self.samples[-1]['weight'] += 1\n",
    "                continue\n",
    "            if new_chi2 < current_chi2:\n",
    "                self.accept_sample(new_params, new_chi2)\n",
    "                break\n",
    "            else:\n",
    "                r = uniform(0, 1)\n",
    "                if r < np.exp(-(new_chi2 - current_chi2)/2):\n",
    "                    self.accept_sample(new_params, new_chi2)\n",
    "                    break\n",
    "                else:\n",
    "                    self.samples[-1]['weight'] += 1 # Increment weight\n",
    "                    continue\n",
    "    \n",
    "    def gelman_rubin(self, n_split):\n",
    "        all_params = np.array(\n",
    "            [sample['params'] for sample in self.samples]\n",
    "        )[:-(len(self.samples)%n_split)]\n",
    "        np.random.shuffle(all_params)\n",
    "        split_params = np.split(all_params, n_split)\n",
    "        avg = np.mean(split_params, axis=1)\n",
    "        std = np.std(split_params, axis=1)\n",
    "        avg_of_std = np.mean(std, axis=0)\n",
    "        std_of_avg = np.std(avg, axis=0)\n",
    "        R_minus_one = std_of_avg/avg_of_std\n",
    "        return np.max(R_minus_one)\n",
    "\n",
    "def run_mcmc():\n",
    "  w = MCMCWalker()\n",
    "  print(\"Starting MCMC\")\n",
    "  start = time()\n",
    "  while True:\n",
    "      for _ in range(1000): w.step()\n",
    "      R_minus_one = w.gelman_rubin(4)\n",
    "      print(f\"At {len(w.samples)} samples, R-1 = {R_minus_one}\")\n",
    "      if R_minus_one < 0.03: break \n",
    "  print(f\"MCMC Converged! Took {time() - start:.2f} seconds\")\n",
    "  return w"
   ]
  }
 ],
 "metadata": {
  "kernelspec": {
   "display_name": "env",
   "language": "python",
   "name": "python3"
  },
  "language_info": {
   "codemirror_mode": {
    "name": "ipython",
    "version": 3
   },
   "file_extension": ".py",
   "mimetype": "text/x-python",
   "name": "python",
   "nbconvert_exporter": "python",
   "pygments_lexer": "ipython3",
   "version": "3.12.3"
  }
 },
 "nbformat": 4,
 "nbformat_minor": 5
}
