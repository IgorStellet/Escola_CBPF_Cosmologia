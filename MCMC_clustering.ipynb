{
 "cells": [
  {
   "cell_type": "markdown",
   "id": "53e34607",
   "metadata": {},
   "source": [
    "# Monte Carlo Markov Chains para Galaxy Clustering\n",
    "\n",
    "Agora que vimos os conceitos básicos de MCMC e análise estatística, é a sua vez. A Gabriela gerou dados observacionais da densidade de galáxias, enquanto o Guilherme explicou como fornecer previsões teóricas. O objetivo é obter intervalos de confiança para dois parâmetros cosmológicos, $\\Omega_m$ e $\\sigma_8$, e gerar um corner plot para ambos.\n",
    "\n",
    "Vou deixar vocês com um código base, copiado da Gabriela e do Guilherme.\n",
    "\n",
    "Me chamem se tiverem qualquer dúvida ou problema!"
   ]
  },
  {
   "cell_type": "code",
   "execution_count": null,
   "id": "c61c2fde",
   "metadata": {},
   "outputs": [],
   "source": [
    "import numpy as np\n",
    "import matplotlib.pyplot as plt\n",
    "from classy import Class"
   ]
  },
  {
   "cell_type": "code",
   "execution_count": 3,
   "id": "eb7904f0",
   "metadata": {},
   "outputs": [],
   "source": [
    "dv = np.load(\"data/cl_gg_input.npy\")\n",
    "ells = np.arange(2, len(dv) + 2)\n",
    "zz, nz = np.load(\"data/dndz_input_z3_galaxy_field_lsstlike.npy\")\n",
    "np.savetxt(\"data/dndz_clustering_class.txt\", np.stack((zz, nz), axis=1)) # Salvando no formato do CLASS"
   ]
  },
  {
   "cell_type": "code",
   "execution_count": 11,
   "id": "a61ff701",
   "metadata": {},
   "outputs": [],
   "source": [
    "def get_cl_gg(Omega_m, sigma_8, bias=1.5):\n",
    "    lmax = 2200\n",
    "    params = {\n",
    "        # Saídas necessárias (CMB + LSS)\n",
    "        'modes': 's',\n",
    "        'output': 'tCl, pCl, lCl, mPk, nCl, dCl',\n",
    "        'lensing': 'yes',\n",
    "        'l_max_scalars': lmax,\n",
    "        'l_max_lss': lmax,\n",
    "        'number_count_contributions': 'density',\n",
    "\n",
    "        # Energia escura via fld\n",
    "        'Omega_Lambda': 0,\n",
    "        'w0_fld': '-1.',\n",
    "        'wa_fld': '0.0',\n",
    "\n",
    "        # Espectro primordial (n_s fixo; sigma8 varia no loop)\n",
    "        'n_s': 0.96,\n",
    "\n",
    "        # Fundo\n",
    "        'h': 0.673,\n",
    "        'Omega_b': 0.03,\n",
    "\n",
    "        # Verbosidade e gauge\n",
    "        'background_verbose': 0,\n",
    "        'perturbations_verbose': 0,\n",
    "        'gauge': 'Synchronous',\n",
    "\n",
    "        # P(k)\n",
    "        'z_pk': '5.0, 0.0',\n",
    "        'P_k_max_h/Mpc': 10,\n",
    "        'k_per_decade_for_pk': 30,\n",
    "        'dNdz_selection': 'data/dndz_class.txt',\n",
    "    }\n",
    "    Omega_nu_fid = 0.06/93.15/params['h']**2\n",
    "    params.update({\n",
    "        'Omega_cdm': Omega_m - params['Omega_b'] - Omega_nu_fid,\n",
    "        'sigma8': sigma_8,\n",
    "    })\n",
    "    \n",
    "    cosmo = Class()\n",
    "    cosmo.set(params)\n",
    "    cosmo.compute()\n",
    "    \n",
    "    cl_dens = cosmo.density_cl(lmax)\n",
    "    Cl_gg = bias**2 * cl_dens['dd']['dens[1]-dens[1]']\n",
    "    ell = np.arange(len(Cl_gg))\n",
    "    return ell, np.asarray(Cl_gg)"
   ]
  },
  {
   "cell_type": "code",
   "execution_count": 12,
   "id": "c76a0f73",
   "metadata": {},
   "outputs": [],
   "source": [
    "# Dados Gabi\n",
    "data_cl_gg = np.array([1.78142794e-05, 2.08104093e-05, 1.86347323e-05, 1.78612158e-05,\n",
    "       1.06061664e-05, 1.14404840e-05, 9.32404084e-06, 8.26436501e-06,\n",
    "       7.04118780e-06, 6.40005133e-06, 5.77462498e-06, 5.50909229e-06,\n",
    "       4.98857085e-06, 4.39896033e-06, 4.13286971e-06, 3.60756474e-06,\n",
    "       2.98927245e-06, 2.25474238e-06, 1.44657207e-06, 7.39427158e-07])\n",
    "data_ells = np.array([  33.71251652,   42.05640149,   52.46540717,   65.45065323,\n",
    "         81.64976198,  101.858168  ,  127.06817675,  158.51769044,\n",
    "        197.7509934 ,  246.69458206,  307.7517628 ,  383.92066303,\n",
    "        478.94144994,  597.47998627,  745.35694088,  929.83360462,\n",
    "       1159.96844581, 1447.06191363, 1805.21133092, 2252.00312343])\n",
    "n_gal = 222828.6428782517"
   ]
  },
  {
   "cell_type": "code",
   "execution_count": 13,
   "id": "7a00cb2d",
   "metadata": {},
   "outputs": [
    {
     "data": {
      "image/png": "[encoded data removed]",
      "text/plain": [
       "<Figure size 640x480 with 1 Axes>"
      ]
     },
     "metadata": {},
     "output_type": "display_data"
    }
   ],
   "source": [
    "# Exemplo de cosmologia\n",
    "ell, cl_gg = get_cl_gg(Omega_m=0.3, sigma_8=0.820)\n",
    "plt.loglog(ell, cl_gg, label=\"Teoria\")\n",
    "plt.scatter(data_ells, data_cl_gg - 1/n_gal, label=\"Dados binados\", s=4, color=\"black\")\n",
    "plt.xlabel(\"$\\\\ell$\")\n",
    "plt.ylabel(\"$C_\\\\ell^{gg}$\")\n",
    "plt.legend()\n",
    "plt.savefig(\"comparacao_cl_gg_pontos.pdf\")"
   ]
  }
 ],
 "metadata": {
  "kernelspec": {
   "display_name": "env",
   "language": "python",
   "name": "python3"
  },
  "language_info": {
   "codemirror_mode": {
    "name": "ipython",
    "version": 3
   },
   "file_extension": ".py",
   "mimetype": "text/x-python",
   "name": "python",
   "nbconvert_exporter": "python",
   "pygments_lexer": "ipython3",
   "version": "3.12.3"
  }
 },
 "nbformat": 4,
 "nbformat_minor": 5
}
